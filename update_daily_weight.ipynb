{
 "cells": [
  {
   "cell_type": "code",
   "execution_count": 1,
   "id": "5367503f",
   "metadata": {},
   "outputs": [],
   "source": [
    "# create df\n",
    "import pandas as pd\n",
    "from datetime import date\n",
    "\n",
    "df = pd.DataFrame()\n",
    "df[\"current_weight\"] = [195.5]\n",
    "df[\"date\"] = date(2022, 6, 23)"
   ]
  },
  {
   "cell_type": "code",
   "execution_count": 2,
   "id": "5d5981bb",
   "metadata": {},
   "outputs": [
    {
     "data": {
      "text/html": [
       "<div>\n",
       "<style scoped>\n",
       "    .dataframe tbody tr th:only-of-type {\n",
       "        vertical-align: middle;\n",
       "    }\n",
       "\n",
       "    .dataframe tbody tr th {\n",
       "        vertical-align: top;\n",
       "    }\n",
       "\n",
       "    .dataframe thead th {\n",
       "        text-align: right;\n",
       "    }\n",
       "</style>\n",
       "<table border=\"1\" class=\"dataframe\">\n",
       "  <thead>\n",
       "    <tr style=\"text-align: right;\">\n",
       "      <th></th>\n",
       "      <th>current_weight</th>\n",
       "      <th>date</th>\n",
       "    </tr>\n",
       "  </thead>\n",
       "  <tbody>\n",
       "    <tr>\n",
       "      <th>0</th>\n",
       "      <td>195.5</td>\n",
       "      <td>2022-06-23</td>\n",
       "    </tr>\n",
       "  </tbody>\n",
       "</table>\n",
       "</div>"
      ],
      "text/plain": [
       "   current_weight        date\n",
       "0           195.5  2022-06-23"
      ]
     },
     "execution_count": 2,
     "metadata": {},
     "output_type": "execute_result"
    }
   ],
   "source": [
    "df.head()"
   ]
  },
  {
   "cell_type": "code",
   "execution_count": 3,
   "id": "85a535ff",
   "metadata": {},
   "outputs": [],
   "source": [
    "df.to_csv(\"weight_log.csv\")"
   ]
  },
  {
   "cell_type": "code",
   "execution_count": null,
   "id": "a5d18977",
   "metadata": {},
   "outputs": [],
   "source": [
    "df = pd.read_csv(\"weight_log.csv\")\n",
    "tmp = pd.DataFrame()\n",
    "tmp[\"current_weight\"] = [195.5]\n",
    "tmp[\"date\"] = date(2022, 6, 23)\n",
    "df = df.append(tmp)\n",
    "df.to_csv(\"weight_log.csv\")"
   ]
  }
 ],
 "metadata": {
  "kernelspec": {
   "display_name": "Python 3",
   "language": "python",
   "name": "python3"
  },
  "language_info": {
   "codemirror_mode": {
    "name": "ipython",
    "version": 3
   },
   "file_extension": ".py",
   "mimetype": "text/x-python",
   "name": "python",
   "nbconvert_exporter": "python",
   "pygments_lexer": "ipython3",
   "version": "3.9.5"
  }
 },
 "nbformat": 4,
 "nbformat_minor": 5
}
